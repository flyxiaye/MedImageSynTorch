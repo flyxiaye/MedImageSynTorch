{
 "metadata": {
  "language_info": {
   "codemirror_mode": {
    "name": "ipython",
    "version": 3
   },
   "file_extension": ".py",
   "mimetype": "text/x-python",
   "name": "python",
   "nbconvert_exporter": "python",
   "pygments_lexer": "ipython3",
   "version": "3.8.5"
  },
  "orig_nbformat": 2,
  "kernelspec": {
   "name": "python385jvsc74a57bd0f7b220410fec46eb77d3020d33ed5e5eeda0158defe0ab3c3e0d7994c27e8045",
   "display_name": "Python 3.8.5 64-bit ('base': conda)"
  }
 },
 "nbformat": 4,
 "nbformat_minor": 2,
 "cells": [
  {
   "cell_type": "code",
   "execution_count": null,
   "metadata": {},
   "outputs": [],
   "source": [
    "file_path = r'C:\\Users\\ChxxxXL\\Documents\\MedicalImage\\result'\n",
    "dst_path = r'C:\\Users\\ChxxxXL\\Pictures\\毕设'\n",
    "file_lists = [['final_imgcgan_grad_img.npy', 'gt_imgcgan_grad_img.npy'], \n",
    "                ['final_imgcgan_grad_loss.npy', 'gt_imgcgan_grad_loss.npy'],\n",
    "                ['final_imgcgan.npy', 'gt_imgcgan.npy'],\n",
    "                ['final_imgunet_same_img.npy', 'gt_imgunet_same_img.npy']]"
   ]
  },
  {
   "cell_type": "code",
   "execution_count": null,
   "metadata": {},
   "outputs": [],
   "source": [
    "import numpy as np \n",
    "import matplotlib.pyplot as plt\n",
    "import matplotlib\n",
    "import seaborn as sns\n",
    "%matplotlib inline\n",
    "from evaltools import eval_img\n",
    "import cv2 as cv\n",
    "# plt.rcParams['font.sans-serif']=['Simhei']\n",
    "import SimpleITK as sitk\n",
    "from matplotlib import rcParams\n",
    "config = {\n",
    "    \"font.family\":'serif',\n",
    "    \"font.size\": 12,\n",
    "    \"mathtext.fontset\":'stix',\n",
    "    \"font.serif\": ['SimSun'],\n",
    "}\n",
    "rcParams.update(config)\n",
    "from matplotlib.font_manager import FontProperties\n",
    "# plt.rcParams['font.sans-serif']=['SimSun'] #用来显示正常中文的标签\n",
    "import pandas as pd\n",
    "from scipy import stats"
   ]
  },
  {
   "cell_type": "code",
   "execution_count": null,
   "metadata": {},
   "outputs": [],
   "source": [
    "mr_file = os.path.join(file_path, '062MR.nii')\n",
    "mr_img = sitk.ReadImage(mr_file)\n",
    "mr_img = sitk.GetArrayFromImage(mr_img)"
   ]
  },
  {
   "cell_type": "code",
   "execution_count": null,
   "metadata": {},
   "outputs": [],
   "source": [
    "src_img_unet = np.load(os.path.join(file_path, file_lists[3][0]))\n",
    "src_img_cgan = np.load(os.path.join(file_path, file_lists[2][0]))\n",
    "src_img_cgan_grad = np.load(os.path.join(file_path, file_lists[1][0]))\n",
    "src_img_cgan_img = np.load(os.path.join(file_path, file_lists[0][0]))\n",
    "src_img_gt = np.load(os.path.join(file_path, file_lists[0][1]))"
   ]
  },
  {
   "cell_type": "code",
   "execution_count": null,
   "metadata": {},
   "outputs": [],
   "source": [
    "img_select_num = 2\n",
    "img_unet = src_img_unet[img_select_num, 0]\n",
    "img_cgan = src_img_cgan[img_select_num, 0]\n",
    "img_cgan_grad = src_img_cgan_grad[img_select_num, 0]\n",
    "img_cgan_img = src_img_cgan_img[img_select_num ,0]\n",
    "img_gt = src_img_gt[img_select_num, 0]"
   ]
  },
  {
   "cell_type": "code",
   "execution_count": null,
   "metadata": {},
   "outputs": [],
   "source": [
    "psnr_unet, ssim_unet = eval_img(img_unet, img_gt)\n",
    "psnr_cgan, ssim_cgan = eval_img(img_cgan, img_gt)\n",
    "psnr_cgan_grad, ssim_cgan_grad = eval_img(img_cgan_grad, img_gt)\n",
    "psnr_cgan_img, ssim_cgan_img = eval_img(img_cgan_img, img_gt)"
   ]
  },
  {
   "cell_type": "code",
   "execution_count": null,
   "metadata": {},
   "outputs": [],
   "source": [
    "print('unet: ', psnr_unet, ssim_unet)\n",
    "print('cgan: ', psnr_cgan, ssim_cgan)\n",
    "print('cgan_grad: ', psnr_cgan_grad, ssim_cgan_grad)\n",
    "print('cgan_img: ', psnr_cgan_img, ssim_cgan_img)"
   ]
  },
  {
   "cell_type": "code",
   "execution_count": null,
   "metadata": {},
   "outputs": [],
   "source": [
    "def get_show_img(img, dim, slice_num):\n",
    "    img_shape = (181, 216, 181)\n",
    "    show_img = None\n",
    "    if dim == 0:\n",
    "        show_img = img[slice_num, :img_shape[1], :img_shape[2]]\n",
    "    elif dim == 1:\n",
    "        show_img = img[:img_shape[0], slice_num, :img_shape[2]]\n",
    "    else:\n",
    "        show_img = img[:img_shape[0], :img_shape[1], slice_num]\n",
    "    w, h = show_img.shape\n",
    "    center = (w//2, h//2)\n",
    "    M = cv.getRotationMatrix2D(center, -180, 1.0) #15\n",
    "    show_img = cv.warpAffine(show_img, M, (w, h)) #16\n",
    "    return show_img\n",
    "    "
   ]
  },
  {
   "cell_type": "code",
   "execution_count": null,
   "metadata": {},
   "outputs": [],
   "source": [
    "matplotlib.rcParams['axes.unicode_minus']=False\n",
    "plt.rcParams['font.sans-serif'] = 'SimHei'\n",
    "slice_num = 90\n",
    "dim = 1\n",
    "fig = plt.figure(figsize=(20, 6))\n",
    "\n",
    "# fig = plt.figure(dpi=300)\n",
    "ax = fig.add_subplot(2, 6, 1)\n",
    "plt.title('MRI')\n",
    "show_img = get_show_img(mr_img, dim, slice_num)\n",
    "plt.imshow(show_img, 'gray')\n",
    "plt.axis(\"off\")\n",
    "ax = fig.add_subplot(2, 6, 2)\n",
    "plt.title('U-Net网络')\n",
    "show_img = get_show_img(img_unet, dim, slice_num)\n",
    "plt.imshow(show_img, 'gray')\n",
    "plt.axis(\"off\")\n",
    "ax = fig.add_subplot(2, 6, 3)\n",
    "plt.title('cGAN网络')\n",
    "show_img = get_show_img(img_cgan, dim, slice_num)\n",
    "plt.imshow(show_img, 'gray')\n",
    "plt.axis(\"off\")\n",
    "ax = fig.add_subplot(2, 6, 4)\n",
    "plt.title('cGAN+梯度损失')\n",
    "show_img = get_show_img(img_cgan_grad, dim, slice_num)\n",
    "plt.imshow(show_img, 'gray')\n",
    "plt.axis(\"off\")\n",
    "ax = fig.add_subplot(2, 6, 5)\n",
    "plt.title('cGAN+图像边缘损失')\n",
    "show_img = get_show_img(img_cgan_img, dim, slice_num)\n",
    "plt.imshow(show_img, 'gray')\n",
    "plt.axis(\"off\")\n",
    "ax = fig.add_subplot(2, 6, 6)\n",
    "plt.title('真值图像')\n",
    "show_img = get_show_img(img_gt, dim, slice_num)\n",
    "plt.imshow(show_img, 'gray')\n",
    "plt.axis(\"off\")\n",
    "\n",
    "cnorm = matplotlib.colors.Normalize(vmin=-1, vmax=1)\n",
    "ax = fig.add_subplot(2, 6, 8)\n",
    "show_img = get_show_img(img_gt, dim, slice_num) - get_show_img(img_unet, dim, slice_num)\n",
    "plt.imshow(show_img, norm=cnorm, cmap='bwr')\n",
    "plt.axis(\"off\")\n",
    "ax = fig.add_subplot(2, 6, 9)\n",
    "show_img = get_show_img(img_gt, dim, slice_num) - get_show_img(img_cgan, dim, slice_num)\n",
    "plt.imshow(show_img, norm=cnorm, cmap='bwr')\n",
    "plt.axis(\"off\")\n",
    "ax = fig.add_subplot(2, 6, 10)\n",
    "show_img = get_show_img(img_gt, dim, slice_num) - get_show_img(img_cgan_grad, dim, slice_num)\n",
    "plt.imshow(show_img, norm=cnorm, cmap='bwr')\n",
    "plt.axis(\"off\")\n",
    "ax = fig.add_subplot(2, 6, 11)\n",
    "show_img = get_show_img(img_gt, dim, slice_num) - get_show_img(img_cgan_img, dim, slice_num)\n",
    "plt.imshow(show_img, norm=cnorm, cmap='bwr')\n",
    "plt.axis(\"off\")\n",
    "\n",
    "ax = fig.add_subplot(2, 6, 12)\n",
    "m = matplotlib.cm.ScalarMappable(norm=cnorm, cmap=matplotlib.cm.bwr)\n",
    "m.set_array(d)\n",
    "plt.colorbar(m)"
   ]
  },
  {
   "cell_type": "code",
   "execution_count": null,
   "metadata": {},
   "outputs": [],
   "source": [
    "d = get_show_img(img_gt, dim, slice_num) - get_show_img(img_cgan_img, dim, slice_num)\n",
    "fig = plt.figure(dpi=100)\n",
    "plt.figure(num=1)\n",
    "cnorm = matplotlib.colors.Normalize(vmin=-1, vmax=1)\n",
    "print(d.min(), d.max())\n",
    "# m = matplotlib.cm.ScalarMappable(norm=cnorm, cmap=matplotlib.cm.bwr)\n",
    "# m.set_array(d)\n",
    "plt.imshow(d, norm=cnorm, cmap=\"bwr\")\n",
    "# plt.axis(\"off\")\n",
    "# plt.colorbar(m)\n",
    "# plt.gca().xaxis.set_major_locator(plt.NullLocator())\n",
    "# plt.gca().yaxis.set_major_locator(plt.NullLocator())\n",
    "# plt.subplots_adjust(top=1, bottom=0, left=0, right=1, hspace=0, wspace=0)\n",
    "# plt.margins(0, 0)\n",
    "# plt.savefig('E:/out/test.png' , bbox_inches='tight', dpi=400,pad_inches=0)"
   ]
  },
  {
   "cell_type": "code",
   "execution_count": null,
   "metadata": {},
   "outputs": [],
   "source": [
    "row = 150\n",
    "curves = [get_show_img(img_gt, dim, slice_num)[row, :], get_show_img(img_cgan, dim, slice_num)[row, :], get_show_img(img_cgan_grad, dim, slice_num)[row, :], get_show_img(img_cgan_img, dim, slice_num)[row, :]]"
   ]
  },
  {
   "cell_type": "code",
   "execution_count": null,
   "metadata": {},
   "outputs": [],
   "source": [
    "fig = plt.figure(figsize=(12, 4))\n",
    "ax = fig.add_subplot(1, 2, 1)\n",
    "plt.plot(curves[0])\n",
    "plt.plot(curves[1])\n",
    "plt.plot(curves[2])\n",
    "plt.legend(['真值图像','cGAN', 'cGAN+梯度损失'])\n",
    "ax = fig.add_subplot(1, 2, 2)\n",
    "plt.plot(curves[0])\n",
    "plt.plot(curves[1])\n",
    "plt.plot(curves[3])\n",
    "plt.legend(['真值图像','cGAN', 'cGAN+图像边缘损失'])"
   ]
  },
  {
   "cell_type": "code",
   "execution_count": null,
   "metadata": {},
   "outputs": [],
   "source": [
    "psnrs = [psnr_unet, psnr_cgan, psnr_cgan_grad, psnr_cgan_img]\n",
    "ssims = [ssim_unet, ssim_cgan, ssim_cgan_grad, ssim_cgan_img]"
   ]
  },
  {
   "cell_type": "code",
   "execution_count": null,
   "metadata": {},
   "outputs": [],
   "source": [
    "import matplotlib.pyplot as plt\n",
    "# fontDict =  \"C:\\\\Windows\\\\Fonts\\\\simsun.ttc\"  \n",
    "# my_font = FontProperties(fname = fontDict, size = 20)\n",
    "\n",
    "labels = ['U-Net','cGAN','梯度损失','图像边缘损失']\n",
    "plt.rcParams['axes.labelsize'] = 12 # xy轴label的size\n",
    "plt.rcParams['xtick.labelsize'] = 12 # x轴ticks的size\n",
    "plt.rcParams['ytick.labelsize'] = 14 # y轴ticks的size\n",
    "# 设置柱形的间隔\n",
    "total_width, n = 0.8, 2\n",
    "width = total_width / n\n",
    "width = 0.3\n",
    "\n",
    "x1_list, x2_list = [], []\n",
    "for i in range(len(psnrs)):\n",
    "    x1_list.append(i)\n",
    "    x2_list.append(i+width+0.1)\n",
    "\n",
    "# 创建图层\n",
    "fig, ax1 = plt.subplots()\n",
    "ax1.set_ylabel('PSNR')\n",
    "ax1.set_ylim(17, 22)\n",
    "b1 = ax1.bar(x1_list,psnrs, width=width, label=\"PSNR\",color='skyblue', align='edge')\n",
    "# plt.bar(x2_list,b, width=width, label=\"b\",color='cornflowerblue', align='edge', tick_label=labels)\n",
    "# plt.bar(x3_list,c, width=width, label=\"c\",color='aqua', align='edge', tick_label=labels)\n",
    "# plt.bar(x4_list,d, width=width, label=\"d\",color='coral', align='edge', tick_label=labels)\n",
    "\n",
    "ax6 = ax1.twinx()\n",
    "ax6.set_ylim(0.8, 1)\n",
    "\n",
    "ax6.set_ylabel('SSIM')\n",
    "\n",
    "b2 = plt.bar(x2_list,ssims, width=width, label=\"SSIM\",color='plum', align='edge', tick_label=labels)\n",
    "# b2 = plt.bar(x2_list,b_2, width=width, label=\"b\",color='cornflowerblue', align='edge', tick_label=labels)\n",
    "\n",
    "# b3 = plt.bar(x3_list,c_2, width=width, label=\"c\",color='aqua', align='edge', tick_label=labels)\n",
    "\n",
    "# b4 = plt.bar(x4_list,d_2, width=width, label=\"d\",color='coral', align='edge', tick_label=labels)\n",
    "\n",
    "plt.legend(handles=[b1,b2],loc=\"upper center\",ncol=2)\n",
    "\n",
    "plt.show()"
   ]
  },
  {
   "cell_type": "code",
   "execution_count": null,
   "metadata": {},
   "outputs": [],
   "source": [
    "grad_loss_file = r'C:\\Users\\ChxxxXL\\Downloads\\run-cgan_grad_loss_train-tag-g_loss.csv'\n",
    "grad_img_file = r'C:\\Users\\ChxxxXL\\Downloads\\run-cgan_grad_img_train-tag-g_loss.csv'\n",
    "grad_loss_df = pd.read_csv(grad_loss_file)\n",
    "grad_img_df = pd.read_csv(grad_img_file)"
   ]
  },
  {
   "cell_type": "code",
   "execution_count": null,
   "metadata": {},
   "outputs": [],
   "source": [
    "idx = (np.arange(0, 150) * 270 / 150).astype('int')\n",
    "grad_loss_df = grad_loss_df.iloc[idx]"
   ]
  },
  {
   "cell_type": "code",
   "execution_count": null,
   "metadata": {},
   "outputs": [],
   "source": [
    "plt.plot(np.arange(0, 150), grad_loss_df['Value'])\n",
    "plt.plot(np.arange(0, 150), grad_img_df['Value'])\n",
    "# plt.xlabel('Step')\n",
    "# plt.ylabel('Loss')\n",
    "plt.legend(['梯度损失', '图像边缘损失'])"
   ]
  },
  {
   "cell_type": "code",
   "execution_count": 383,
   "metadata": {},
   "outputs": [],
   "source": [
    "srgan_loss_file = r'C:\\Users\\ChxxxXL\\Downloads\\run-srcgan_train-tag-g_loss.csv'\n",
    "srganres_loss_file = r'C:\\Users\\ChxxxXL\\Downloads\\run-res_srcgan_train-tag-g_loss.csv'\n",
    "srgan_loss_df = pd.read_csv(srgan_loss_file)\n",
    "srganres_loss_df = pd.read_csv(srganres_loss_file)"
   ]
  },
  {
   "cell_type": "code",
   "execution_count": 384,
   "metadata": {},
   "outputs": [],
   "source": [
    "srgan_loss_df = srgan_loss_df.iloc[390:, :]\n",
    "srganres_loss_df = srganres_loss_df.iloc[332:, :]"
   ]
  },
  {
   "cell_type": "code",
   "execution_count": 386,
   "metadata": {},
   "outputs": [
    {
     "output_type": "stream",
     "name": "stdout",
     "text": [
      "<class 'pandas.core.frame.DataFrame'>\nRangeIndex: 668 entries, 332 to 999\nData columns (total 3 columns):\n #   Column     Non-Null Count  Dtype  \n---  ------     --------------  -----  \n 0   Wall time  668 non-null    float64\n 1   Step       668 non-null    int64  \n 2   Value      668 non-null    float64\ndtypes: float64(2), int64(1)\nmemory usage: 15.8 KB\n"
     ]
    }
   ],
   "source": [
    "srganres_loss_df.info()"
   ]
  },
  {
   "cell_type": "code",
   "execution_count": 387,
   "metadata": {},
   "outputs": [
    {
     "output_type": "execute_result",
     "data": {
      "text/plain": [
       "[<matplotlib.lines.Line2D at 0x261125ad700>]"
      ]
     },
     "metadata": {},
     "execution_count": 387
    },
    {
     "output_type": "display_data",
     "data": {
      "text/plain": "<Figure size 432x288 with 1 Axes>",
      "image/svg+xml": "<?xml version=\"1.0\" encoding=\"utf-8\" standalone=\"no\"?>\r\n<!DOCTYPE svg PUBLIC \"-//W3C//DTD SVG 1.1//EN\"\r\n  \"http://www.w3.org/Graphics/SVG/1.1/DTD/svg11.dtd\">\r\n<!-- Created with matplotlib (https://matplotlib.org/) -->\r\n<svg height=\"248.965pt\" version=\"1.1\" viewBox=\"0 0 379.040289 248.965\" width=\"379.040289pt\" xmlns=\"http://www.w3.org/2000/svg\" xmlns:xlink=\"http://www.w3.org/1999/xlink\">\r\n <metadata>\r\n  <rdf:RDF xmlns:cc=\"http://creativecommons.org/ns#\" xmlns:dc=\"http://purl.org/dc/elements/1.1/\" xmlns:rdf=\"http://www.w3.org/1999/02/22-rdf-syntax-ns#\">\r\n   <cc:Work>\r\n    <dc:type rdf:resource=\"http://purl.org/dc/dcmitype/StillImage\"/>\r\n    <dc:date>2021-05-09T09:56:04.966830</dc:date>\r\n    <dc:format>image/svg+xml</dc:format>\r\n    <dc:creator>\r\n     <cc:Agent>\r\n      <dc:title>Matplotlib v3.3.4, https://matplotlib.org/</dc:title>\r\n     </cc:Agent>\r\n    </dc:creator>\r\n   </cc:Work>\r\n  </rdf:RDF>\r\n </metadata>\r\n <defs>\r\n  <style type=\"text/css\">*{stroke-linecap:butt;stroke-linejoin:round;}</style>\r\n </defs>\r\n <g id=\"figure_1\">\r\n  <g id=\"patch_1\">\r\n   <path d=\"M 0 248.965 \r\nL 379.040289 248.965 \r\nL 379.040289 0 \r\nL 0 0 \r\nz\r\n\" style=\"fill:none;\"/>\r\n  </g>\r\n  <g id=\"axes_1\">\r\n   <g id=\"patch_2\">\r\n    <path d=\"M 28.2 224.64 \r\nL 363 224.64 \r\nL 363 7.2 \r\nL 28.2 7.2 \r\nz\r\n\" style=\"fill:#ffffff;\"/>\r\n   </g>\r\n   <g id=\"matplotlib.axis_1\">\r\n    <g id=\"xtick_1\">\r\n     <g id=\"line2d_1\">\r\n      <defs>\r\n       <path d=\"M 0 0 \r\nL 0 3.5 \r\n\" id=\"m38927ca7ef\" style=\"stroke:#000000;stroke-width:0.8;\"/>\r\n      </defs>\r\n      <g>\r\n       <use style=\"stroke:#000000;stroke-width:0.8;\" x=\"43.418182\" xlink:href=\"#m38927ca7ef\" y=\"224.64\"/>\r\n      </g>\r\n     </g>\r\n     <g id=\"text_1\">\r\n      <!-- 0 -->\r\n      <g transform=\"translate(40.418182 240.218125)scale(0.12 -0.12)\">\r\n       <defs>\r\n        <path d=\"M 25 66.015625 \r\nQ 19.53125 66.015625 15.8125 57.609375 \r\nQ 12.109375 49.21875 12.109375 35.15625 \r\nQ 12.109375 20.3125 15.8125 12.109375 \r\nQ 19.53125 3.90625 25 3.90625 \r\nQ 30.859375 3.90625 34.171875 12.109375 \r\nQ 37.5 20.3125 37.5 35.15625 \r\nQ 37.5 49.21875 34.375 57.609375 \r\nQ 31.25 66.015625 25 66.015625 \r\nz\r\nM 25 0.78125 \r\nQ 16.40625 0.78125 10.546875 9.765625 \r\nQ 4.6875 18.75 4.6875 35.15625 \r\nQ 4.6875 50.390625 10.34375 59.765625 \r\nQ 16.015625 69.140625 25 69.140625 \r\nQ 33.59375 69.140625 39.25 60.15625 \r\nQ 44.921875 51.171875 44.921875 35.15625 \r\nQ 44.921875 19.140625 39.25 9.953125 \r\nQ 33.59375 0.78125 25 0.78125 \r\nz\r\n\" id=\"SimSun-48\"/>\r\n       </defs>\r\n       <use xlink:href=\"#SimSun-48\"/>\r\n      </g>\r\n     </g>\r\n    </g>\r\n    <g id=\"xtick_2\">\r\n     <g id=\"line2d_2\">\r\n      <g>\r\n       <use style=\"stroke:#000000;stroke-width:0.8;\" x=\"89.049911\" xlink:href=\"#m38927ca7ef\" y=\"224.64\"/>\r\n      </g>\r\n     </g>\r\n     <g id=\"text_2\">\r\n      <!-- 100 -->\r\n      <g transform=\"translate(80.049911 240.218125)scale(0.12 -0.12)\">\r\n       <defs>\r\n        <path d=\"M 28.515625 69.53125 \r\nL 28.515625 10.15625 \r\nQ 28.515625 7.03125 30.46875 5.46875 \r\nQ 32.421875 3.90625 35.9375 3.90625 \r\nL 39.84375 3.90625 \r\nL 39.84375 1.5625 \r\nL 11.328125 1.5625 \r\nL 11.328125 3.90625 \r\nL 14.84375 3.90625 \r\nQ 18.75 3.90625 20.5 5.46875 \r\nQ 22.265625 7.03125 22.265625 10.15625 \r\nL 22.265625 57.421875 \r\nQ 22.265625 58.984375 21.28125 59.953125 \r\nQ 20.3125 60.9375 18.359375 60.9375 \r\nL 11.328125 60.9375 \r\nL 11.328125 63.28125 \r\nL 14.84375 63.28125 \r\nQ 19.53125 63.28125 22.453125 64.84375 \r\nQ 25.390625 66.40625 26.953125 69.53125 \r\nz\r\n\" id=\"SimSun-49\"/>\r\n       </defs>\r\n       <use xlink:href=\"#SimSun-49\"/>\r\n       <use x=\"50\" xlink:href=\"#SimSun-48\"/>\r\n       <use x=\"100\" xlink:href=\"#SimSun-48\"/>\r\n      </g>\r\n     </g>\r\n    </g>\r\n    <g id=\"xtick_3\">\r\n     <g id=\"line2d_3\">\r\n      <g>\r\n       <use style=\"stroke:#000000;stroke-width:0.8;\" x=\"134.681641\" xlink:href=\"#m38927ca7ef\" y=\"224.64\"/>\r\n      </g>\r\n     </g>\r\n     <g id=\"text_3\">\r\n      <!-- 200 -->\r\n      <g transform=\"translate(125.681641 240.218125)scale(0.12 -0.12)\">\r\n       <defs>\r\n        <path d=\"M 36.328125 51.953125 \r\nQ 36.328125 58.984375 33.203125 62.6875 \r\nQ 30.078125 66.40625 23.828125 66.40625 \r\nQ 19.140625 66.40625 15.8125 63.859375 \r\nQ 12.5 61.328125 12.5 57.421875 \r\nQ 12.5 55.078125 14.0625 53.515625 \r\nQ 15.234375 51.953125 15.234375 50.390625 \r\nQ 15.234375 48.4375 14.25 47.453125 \r\nQ 13.28125 46.484375 11.328125 46.484375 \r\nQ 8.984375 46.484375 7.609375 47.84375 \r\nQ 6.25 49.21875 6.25 52.34375 \r\nQ 6.25 60.546875 12.109375 64.84375 \r\nQ 17.96875 69.140625 24.609375 69.140625 \r\nQ 33.984375 69.140625 38.46875 64.453125 \r\nQ 42.96875 59.765625 42.96875 52.734375 \r\nQ 42.96875 48.046875 40.8125 43.359375 \r\nQ 38.671875 38.671875 33.984375 34.375 \r\nQ 22.65625 23.4375 16.59375 16.59375 \r\nQ 10.546875 9.765625 9.375 7.421875 \r\nL 32.421875 7.421875 \r\nQ 35.9375 7.421875 38.28125 10.15625 \r\nQ 40.625 12.890625 41.40625 18.359375 \r\nL 43.75 18.359375 \r\nL 41.40625 1.5625 \r\nL 5.078125 1.5625 \r\nL 5.078125 6.640625 \r\nQ 7.03125 10.15625 11.515625 15.625 \r\nQ 16.015625 21.09375 23.4375 28.515625 \r\nQ 30.078125 35.15625 33.203125 41.015625 \r\nQ 36.328125 46.875 36.328125 51.953125 \r\nz\r\n\" id=\"SimSun-50\"/>\r\n       </defs>\r\n       <use xlink:href=\"#SimSun-50\"/>\r\n       <use x=\"50\" xlink:href=\"#SimSun-48\"/>\r\n       <use x=\"100\" xlink:href=\"#SimSun-48\"/>\r\n      </g>\r\n     </g>\r\n    </g>\r\n    <g id=\"xtick_4\">\r\n     <g id=\"line2d_4\">\r\n      <g>\r\n       <use style=\"stroke:#000000;stroke-width:0.8;\" x=\"180.313371\" xlink:href=\"#m38927ca7ef\" y=\"224.64\"/>\r\n      </g>\r\n     </g>\r\n     <g id=\"text_4\">\r\n      <!-- 300 -->\r\n      <g transform=\"translate(171.313371 240.218125)scale(0.12 -0.12)\">\r\n       <defs>\r\n        <path d=\"M 43.75 19.53125 \r\nQ 43.75 12.109375 38.28125 6.4375 \r\nQ 32.8125 0.78125 23.046875 0.78125 \r\nQ 16.015625 0.78125 10.9375 4.6875 \r\nQ 5.859375 8.59375 5.859375 13.671875 \r\nQ 5.859375 16.015625 7.421875 17.765625 \r\nQ 8.984375 19.53125 10.546875 19.53125 \r\nQ 12.890625 19.53125 13.859375 17.765625 \r\nQ 14.84375 16.015625 14.84375 14.84375 \r\nQ 14.84375 12.890625 14.0625 11.71875 \r\nQ 13.28125 10.15625 13.28125 8.984375 \r\nQ 13.28125 6.640625 16.203125 5.078125 \r\nQ 19.140625 3.515625 22.65625 3.515625 \r\nQ 29.6875 3.515625 33.203125 7.609375 \r\nQ 36.71875 11.71875 36.71875 20.3125 \r\nQ 36.71875 27.34375 33 31.640625 \r\nQ 29.296875 35.9375 19.140625 35.9375 \r\nL 19.140625 38.671875 \r\nQ 26.953125 38.671875 30.65625 42.375 \r\nQ 34.375 46.09375 34.375 52.734375 \r\nQ 34.375 58.203125 31.4375 62.296875 \r\nQ 28.515625 66.40625 22.265625 66.40625 \r\nQ 19.53125 66.40625 16.40625 65.03125 \r\nQ 13.28125 63.671875 13.28125 60.546875 \r\nQ 13.28125 57.421875 14.0625 56.640625 \r\nQ 14.84375 55.859375 14.84375 54.6875 \r\nQ 14.84375 52.734375 14.0625 51.5625 \r\nQ 13.28125 50.390625 11.328125 50.390625 \r\nQ 9.765625 50.390625 8.390625 51.5625 \r\nQ 7.03125 52.734375 7.03125 55.859375 \r\nQ 7.03125 61.71875 12.109375 65.421875 \r\nQ 17.1875 69.140625 23.828125 69.140625 \r\nQ 31.640625 69.140625 36.328125 64.25 \r\nQ 41.015625 59.375 41.015625 53.90625 \r\nQ 41.015625 48.046875 38.078125 43.9375 \r\nQ 35.15625 39.84375 28.90625 37.890625 \r\nQ 37.5 34.765625 40.625 29.6875 \r\nQ 43.75 24.609375 43.75 19.53125 \r\nz\r\n\" id=\"SimSun-51\"/>\r\n       </defs>\r\n       <use xlink:href=\"#SimSun-51\"/>\r\n       <use x=\"50\" xlink:href=\"#SimSun-48\"/>\r\n       <use x=\"100\" xlink:href=\"#SimSun-48\"/>\r\n      </g>\r\n     </g>\r\n    </g>\r\n    <g id=\"xtick_5\">\r\n     <g id=\"line2d_5\">\r\n      <g>\r\n       <use style=\"stroke:#000000;stroke-width:0.8;\" x=\"225.9451\" xlink:href=\"#m38927ca7ef\" y=\"224.64\"/>\r\n      </g>\r\n     </g>\r\n     <g id=\"text_5\">\r\n      <!-- 400 -->\r\n      <g transform=\"translate(216.9451 240.218125)scale(0.12 -0.12)\">\r\n       <defs>\r\n        <path d=\"M 35.9375 8.984375 \r\nQ 35.9375 6.25 37.5 5.078125 \r\nQ 39.0625 3.90625 41.796875 3.90625 \r\nL 45.3125 3.90625 \r\nL 45.3125 1.5625 \r\nL 19.53125 1.5625 \r\nL 19.53125 3.90625 \r\nL 23.828125 3.90625 \r\nQ 26.953125 3.90625 28.3125 5.078125 \r\nQ 29.6875 6.25 29.6875 8.984375 \r\nL 29.6875 21.875 \r\nL 3.515625 21.875 \r\nL 3.515625 23.828125 \r\nL 32.03125 69.140625 \r\nL 35.9375 69.140625 \r\nL 35.9375 24.21875 \r\nL 46.484375 24.21875 \r\nL 46.484375 21.875 \r\nL 35.9375 21.875 \r\nz\r\nM 29.296875 59.375 \r\nL 7.03125 24.21875 \r\nL 29.6875 24.21875 \r\nL 29.6875 59.375 \r\nz\r\n\" id=\"SimSun-52\"/>\r\n       </defs>\r\n       <use xlink:href=\"#SimSun-52\"/>\r\n       <use x=\"50\" xlink:href=\"#SimSun-48\"/>\r\n       <use x=\"100\" xlink:href=\"#SimSun-48\"/>\r\n      </g>\r\n     </g>\r\n    </g>\r\n    <g id=\"xtick_6\">\r\n     <g id=\"line2d_6\">\r\n      <g>\r\n       <use style=\"stroke:#000000;stroke-width:0.8;\" x=\"271.57683\" xlink:href=\"#m38927ca7ef\" y=\"224.64\"/>\r\n      </g>\r\n     </g>\r\n     <g id=\"text_6\">\r\n      <!-- 500 -->\r\n      <g transform=\"translate(262.57683 240.218125)scale(0.12 -0.12)\">\r\n       <defs>\r\n        <path d=\"M 26.953125 44.53125 \r\nQ 34.375 44.53125 39.0625 38.859375 \r\nQ 43.75 33.203125 43.75 23.828125 \r\nQ 43.75 13.28125 38.859375 7.03125 \r\nQ 33.984375 0.78125 23.828125 0.78125 \r\nQ 16.796875 0.78125 11.328125 4.875 \r\nQ 5.859375 8.984375 5.859375 14.84375 \r\nQ 5.859375 17.1875 7.21875 18.9375 \r\nQ 8.59375 20.703125 10.9375 20.703125 \r\nQ 13.28125 20.703125 14.0625 19.140625 \r\nQ 14.84375 17.578125 14.84375 16.40625 \r\nQ 14.84375 14.0625 13.671875 12.890625 \r\nQ 12.5 11.328125 12.5 9.765625 \r\nQ 12.5 6.640625 16.203125 5.078125 \r\nQ 19.921875 3.515625 24.21875 3.515625 \r\nQ 30.46875 3.515625 33.78125 8.59375 \r\nQ 37.109375 13.671875 37.109375 23.046875 \r\nQ 37.109375 30.859375 34.171875 35.734375 \r\nQ 31.25 40.625 25.390625 40.625 \r\nQ 21.09375 40.625 17.96875 39.0625 \r\nQ 14.84375 37.5 12.109375 32.421875 \r\nL 8.59375 32.8125 \r\nL 10.546875 68.359375 \r\nL 42.578125 68.359375 \r\nL 41.40625 62.5 \r\nL 13.28125 62.5 \r\nL 11.71875 36.71875 \r\nQ 15.625 42.1875 19.328125 43.359375 \r\nQ 23.046875 44.53125 26.953125 44.53125 \r\nz\r\n\" id=\"SimSun-53\"/>\r\n       </defs>\r\n       <use xlink:href=\"#SimSun-53\"/>\r\n       <use x=\"50\" xlink:href=\"#SimSun-48\"/>\r\n       <use x=\"100\" xlink:href=\"#SimSun-48\"/>\r\n      </g>\r\n     </g>\r\n    </g>\r\n    <g id=\"xtick_7\">\r\n     <g id=\"line2d_7\">\r\n      <g>\r\n       <use style=\"stroke:#000000;stroke-width:0.8;\" x=\"317.208559\" xlink:href=\"#m38927ca7ef\" y=\"224.64\"/>\r\n      </g>\r\n     </g>\r\n     <g id=\"text_7\">\r\n      <!-- 600 -->\r\n      <g transform=\"translate(308.208559 240.218125)scale(0.12 -0.12)\">\r\n       <defs>\r\n        <path d=\"M 12.109375 28.125 \r\nQ 12.109375 16.40625 16.203125 9.953125 \r\nQ 20.3125 3.515625 26.171875 3.515625 \r\nQ 32.03125 3.515625 35.15625 7.8125 \r\nQ 38.28125 12.109375 38.28125 23.828125 \r\nQ 38.28125 31.640625 34.953125 35.9375 \r\nQ 31.640625 40.234375 26.953125 40.234375 \r\nQ 22.65625 40.234375 18.9375 37.6875 \r\nQ 15.234375 35.15625 12.109375 28.125 \r\nz\r\nM 27.34375 44.140625 \r\nQ 36.71875 44.140625 40.8125 37.890625 \r\nQ 44.921875 31.640625 44.921875 23.828125 \r\nQ 44.921875 12.109375 39.25 6.4375 \r\nQ 33.59375 0.78125 26.171875 0.78125 \r\nQ 15.625 0.78125 10.15625 8.78125 \r\nQ 4.6875 16.796875 4.6875 32.03125 \r\nQ 4.6875 50 11.328125 59.5625 \r\nQ 17.96875 69.140625 29.296875 69.140625 \r\nQ 34.765625 69.140625 38.078125 66.015625 \r\nQ 41.40625 62.890625 41.40625 60.546875 \r\nQ 41.40625 58.203125 40.421875 57.03125 \r\nQ 39.453125 55.859375 37.109375 55.859375 \r\nQ 35.15625 55.859375 34.171875 56.828125 \r\nQ 33.203125 57.8125 33.203125 59.765625 \r\nQ 33.203125 60.546875 33.59375 61.328125 \r\nQ 33.59375 62.109375 33.59375 62.890625 \r\nQ 33.59375 64.453125 32.421875 65.421875 \r\nQ 31.25 66.40625 28.125 66.40625 \r\nQ 21.484375 66.40625 16.796875 60.34375 \r\nQ 12.109375 54.296875 12.109375 33.984375 \r\nQ 14.453125 39.0625 18.546875 41.59375 \r\nQ 22.65625 44.140625 27.34375 44.140625 \r\nz\r\n\" id=\"SimSun-54\"/>\r\n       </defs>\r\n       <use xlink:href=\"#SimSun-54\"/>\r\n       <use x=\"50\" xlink:href=\"#SimSun-48\"/>\r\n       <use x=\"100\" xlink:href=\"#SimSun-48\"/>\r\n      </g>\r\n     </g>\r\n    </g>\r\n    <g id=\"xtick_8\">\r\n     <g id=\"line2d_8\">\r\n      <g>\r\n       <use style=\"stroke:#000000;stroke-width:0.8;\" x=\"362.840289\" xlink:href=\"#m38927ca7ef\" y=\"224.64\"/>\r\n      </g>\r\n     </g>\r\n     <g id=\"text_8\">\r\n      <!-- 700 -->\r\n      <g transform=\"translate(353.840289 240.218125)scale(0.12 -0.12)\">\r\n       <defs>\r\n        <path d=\"M 44.140625 65.625 \r\nQ 35.9375 52.34375 31.046875 39.640625 \r\nQ 26.171875 26.953125 26.171875 17.578125 \r\nQ 26.171875 16.015625 26.5625 13.28125 \r\nQ 26.5625 10.15625 26.5625 6.25 \r\nQ 26.5625 3.125 25.578125 1.953125 \r\nQ 24.609375 0.78125 22.265625 0.78125 \r\nQ 20.3125 0.78125 18.9375 2.140625 \r\nQ 17.578125 3.515625 17.578125 7.03125 \r\nQ 17.578125 14.453125 20.890625 25.390625 \r\nQ 24.21875 36.328125 38.671875 62.5 \r\nL 19.140625 62.5 \r\nQ 14.84375 62.5 12.296875 59.765625 \r\nQ 9.765625 57.03125 8.59375 51.5625 \r\nL 6.25 51.953125 \r\nL 8.984375 68.359375 \r\nL 44.140625 68.359375 \r\nz\r\n\" id=\"SimSun-55\"/>\r\n       </defs>\r\n       <use xlink:href=\"#SimSun-55\"/>\r\n       <use x=\"50\" xlink:href=\"#SimSun-48\"/>\r\n       <use x=\"100\" xlink:href=\"#SimSun-48\"/>\r\n      </g>\r\n     </g>\r\n    </g>\r\n   </g>\r\n   <g id=\"matplotlib.axis_2\">\r\n    <g id=\"ytick_1\">\r\n     <g id=\"line2d_9\">\r\n      <defs>\r\n       <path d=\"M 0 0 \r\nL -3.5 0 \r\n\" id=\"m6ff3d9e0ce\" style=\"stroke:#000000;stroke-width:0.8;\"/>\r\n      </defs>\r\n      <g>\r\n       <use style=\"stroke:#000000;stroke-width:0.8;\" x=\"28.2\" xlink:href=\"#m6ff3d9e0ce\" y=\"187.837393\"/>\r\n      </g>\r\n     </g>\r\n     <g id=\"text_9\">\r\n      <!-- 5 -->\r\n      <g transform=\"translate(14.2 192.841299)scale(0.14 -0.14)\">\r\n       <use xlink:href=\"#SimSun-53\"/>\r\n      </g>\r\n     </g>\r\n    </g>\r\n    <g id=\"ytick_2\">\r\n     <g id=\"line2d_10\">\r\n      <g>\r\n       <use style=\"stroke:#000000;stroke-width:0.8;\" x=\"28.2\" xlink:href=\"#m6ff3d9e0ce\" y=\"146.825275\"/>\r\n      </g>\r\n     </g>\r\n     <g id=\"text_10\">\r\n      <!-- 10 -->\r\n      <g transform=\"translate(7.2 151.829182)scale(0.14 -0.14)\">\r\n       <use xlink:href=\"#SimSun-49\"/>\r\n       <use x=\"50\" xlink:href=\"#SimSun-48\"/>\r\n      </g>\r\n     </g>\r\n    </g>\r\n    <g id=\"ytick_3\">\r\n     <g id=\"line2d_11\">\r\n      <g>\r\n       <use style=\"stroke:#000000;stroke-width:0.8;\" x=\"28.2\" xlink:href=\"#m6ff3d9e0ce\" y=\"105.813158\"/>\r\n      </g>\r\n     </g>\r\n     <g id=\"text_11\">\r\n      <!-- 15 -->\r\n      <g transform=\"translate(7.2 110.817064)scale(0.14 -0.14)\">\r\n       <use xlink:href=\"#SimSun-49\"/>\r\n       <use x=\"50\" xlink:href=\"#SimSun-53\"/>\r\n      </g>\r\n     </g>\r\n    </g>\r\n    <g id=\"ytick_4\">\r\n     <g id=\"line2d_12\">\r\n      <g>\r\n       <use style=\"stroke:#000000;stroke-width:0.8;\" x=\"28.2\" xlink:href=\"#m6ff3d9e0ce\" y=\"64.80104\"/>\r\n      </g>\r\n     </g>\r\n     <g id=\"text_12\">\r\n      <!-- 20 -->\r\n      <g transform=\"translate(7.2 69.804947)scale(0.14 -0.14)\">\r\n       <use xlink:href=\"#SimSun-50\"/>\r\n       <use x=\"50\" xlink:href=\"#SimSun-48\"/>\r\n      </g>\r\n     </g>\r\n    </g>\r\n    <g id=\"ytick_5\">\r\n     <g id=\"line2d_13\">\r\n      <g>\r\n       <use style=\"stroke:#000000;stroke-width:0.8;\" x=\"28.2\" xlink:href=\"#m6ff3d9e0ce\" y=\"23.788923\"/>\r\n      </g>\r\n     </g>\r\n     <g id=\"text_13\">\r\n      <!-- 25 -->\r\n      <g transform=\"translate(7.2 28.792829)scale(0.14 -0.14)\">\r\n       <use xlink:href=\"#SimSun-50\"/>\r\n       <use x=\"50\" xlink:href=\"#SimSun-53\"/>\r\n      </g>\r\n     </g>\r\n    </g>\r\n   </g>\r\n   <g id=\"line2d_14\">\r\n    <path clip-path=\"url(#p493a5e300d)\" d=\"M 43.418182 203.32983 \r\nL 43.874499 205.530259 \r\nL 44.330816 206.792152 \r\nL 44.787134 205.947532 \r\nL 45.243451 208.605746 \r\nL 45.699768 207.663106 \r\nL 46.156086 209.521544 \r\nL 46.612403 207.284244 \r\nL 47.06872 208.472283 \r\nL 47.525037 207.177734 \r\nL 47.981355 206.607007 \r\nL 48.437672 206.685724 \r\nL 48.893989 208.910215 \r\nL 49.350307 206.966123 \r\nL 49.806624 207.983003 \r\nL 50.262941 205.843509 \r\nL 50.719259 209.071568 \r\nL 51.631893 207.235348 \r\nL 52.08821 208.190022 \r\nL 52.544528 207.58734 \r\nL 53.000845 209.338532 \r\nL 53.457162 210.145159 \r\nL 53.91348 209.897741 \r\nL 54.369797 209.135609 \r\nL 54.826114 207.373919 \r\nL 55.282432 209.574232 \r\nL 55.738749 209.142463 \r\nL 56.195066 205.781483 \r\nL 56.651383 205.866378 \r\nL 57.107701 208.410378 \r\nL 57.564018 208.804848 \r\nL 58.020335 210.195395 \r\nL 58.476653 207.45386 \r\nL 58.93297 207.322564 \r\nL 59.389287 207.763339 \r\nL 59.845604 208.824058 \r\nL 60.301922 207.733438 \r\nL 60.758239 208.383381 \r\nL 61.214556 211.013579 \r\nL 61.670874 206.90952 \r\nL 62.127191 208.835115 \r\nL 62.583508 209.071488 \r\nL 63.039826 208.032846 \r\nL 63.496143 209.350133 \r\nL 63.95246 209.463163 \r\nL 64.408777 208.526168 \r\nL 64.865095 205.295637 \r\nL 65.321412 207.358702 \r\nL 65.777729 210.849574 \r\nL 66.234047 208.709311 \r\nL 66.690364 209.192685 \r\nL 67.146681 207.612732 \r\nL 67.602999 208.593191 \r\nL 68.059316 206.932985 \r\nL 68.515633 209.980669 \r\nL 68.97195 209.769627 \r\nL 69.884585 207.306837 \r\nL 70.340902 208.62265 \r\nL 71.253537 206.758613 \r\nL 71.709854 211.297389 \r\nL 72.166171 208.263494 \r\nL 72.622489 207.808815 \r\nL 73.078806 209.985435 \r\nL 73.535123 206.709559 \r\nL 73.991441 207.6953 \r\nL 74.447758 209.447914 \r\nL 74.904075 208.548319 \r\nL 75.360393 209.388217 \r\nL 75.81671 207.151711 \r\nL 76.273027 209.701357 \r\nL 76.729344 208.940347 \r\nL 77.185662 209.149159 \r\nL 77.641979 209.114259 \r\nL 78.098296 208.307412 \r\nL 78.554614 209.782039 \r\nL 79.010931 208.980695 \r\nL 79.467248 208.517294 \r\nL 79.923565 210.713837 \r\nL 80.379883 210.214339 \r\nL 80.8362 203.898428 \r\nL 81.292517 207.50205 \r\nL 81.748835 207.222466 \r\nL 82.205152 209.798103 \r\nL 82.661469 206.332658 \r\nL 83.117787 207.084205 \r\nL 83.574104 208.196589 \r\nL 84.030421 210.828467 \r\nL 84.486738 210.050093 \r\nL 84.943056 209.901733 \r\nL 85.399373 197.145493 \r\nL 85.85569 206.851622 \r\nL 86.312008 208.242835 \r\nL 86.768325 206.901287 \r\nL 87.224642 208.099317 \r\nL 87.68096 206.916142 \r\nL 88.137277 210.194225 \r\nL 88.593594 209.715081 \r\nL 89.049911 207.059789 \r\nL 89.506229 208.19155 \r\nL 89.962546 210.575734 \r\nL 90.418863 209.692981 \r\nL 90.875181 210.282112 \r\nL 91.331498 208.199968 \r\nL 91.787815 204.550465 \r\nL 92.244132 208.751846 \r\nL 92.70045 210.908582 \r\nL 93.156767 207.908303 \r\nL 93.613084 201.499829 \r\nL 94.525719 209.956005 \r\nL 94.982036 209.568866 \r\nL 95.438354 210.142331 \r\nL 95.894671 211.4769 \r\nL 96.350988 210.380708 \r\nL 96.807305 207.243431 \r\nL 97.263623 208.908165 \r\nL 97.71994 208.129774 \r\nL 98.176257 204.272798 \r\nL 98.632575 205.217794 \r\nL 99.545209 210.282922 \r\nL 100.001527 209.198135 \r\nL 100.457844 208.790009 \r\nL 100.914161 211.26657 \r\nL 101.370478 211.361087 \r\nL 101.826796 206.874436 \r\nL 102.283113 210.920821 \r\nL 102.73943 208.880353 \r\nL 103.195748 209.672684 \r\nL 103.652065 209.681398 \r\nL 104.108382 211.369872 \r\nL 104.564699 210.82904 \r\nL 105.021017 209.559532 \r\nL 105.477334 210.393874 \r\nL 105.933651 210.023473 \r\nL 106.389969 210.900021 \r\nL 106.846286 210.337022 \r\nL 107.302603 208.225593 \r\nL 108.215238 209.519211 \r\nL 109.127872 207.754432 \r\nL 109.58419 210.606151 \r\nL 110.040507 211.227382 \r\nL 110.496824 212.853161 \r\nL 111.409459 209.275886 \r\nL 111.865776 211.522755 \r\nL 112.322093 210.12211 \r\nL 112.778411 210.866603 \r\nL 113.234728 208.9445 \r\nL 113.691045 211.088526 \r\nL 114.60368 213.222691 \r\nL 115.059997 210.52771 \r\nL 115.516315 210.153173 \r\nL 115.972632 209.997108 \r\nL 116.428949 212.177149 \r\nL 116.885266 208.941579 \r\nL 117.797901 210.607418 \r\nL 118.254218 211.305649 \r\nL 118.710536 211.754442 \r\nL 119.166853 211.164425 \r\nL 119.62317 211.697616 \r\nL 120.079488 210.471711 \r\nL 120.535805 210.552849 \r\nL 120.992122 212.021714 \r\nL 121.448439 208.716535 \r\nL 121.904757 211.216315 \r\nL 122.361074 206.402849 \r\nL 122.817391 210.190825 \r\nL 123.273709 210.70367 \r\nL 123.730026 211.458416 \r\nL 124.186343 210.851627 \r\nL 124.64266 210.039922 \r\nL 125.098978 211.504607 \r\nL 125.555295 211.183367 \r\nL 126.011612 209.78755 \r\nL 126.46793 210.827784 \r\nL 126.924247 209.674866 \r\nL 127.380564 208.948844 \r\nL 127.836882 209.283732 \r\nL 128.293199 211.841561 \r\nL 128.749516 211.524275 \r\nL 129.205833 206.783962 \r\nL 129.662151 208.157778 \r\nL 130.118468 208.27454 \r\nL 130.574785 212.802938 \r\nL 131.031103 211.457084 \r\nL 131.48742 211.195028 \r\nL 131.943737 209.533389 \r\nL 132.400055 211.705531 \r\nL 132.856372 210.317171 \r\nL 133.312689 211.836304 \r\nL 133.769006 209.991472 \r\nL 134.225324 211.939122 \r\nL 134.681641 212.488842 \r\nL 135.137958 211.133249 \r\nL 135.594276 211.970574 \r\nL 136.050593 211.107974 \r\nL 136.50691 211.70881 \r\nL 136.963227 212.00759 \r\nL 137.419545 210.568111 \r\nL 137.875862 211.292856 \r\nL 138.332179 211.009142 \r\nL 138.788497 211.510179 \r\nL 139.244814 210.213682 \r\nL 140.157449 209.50889 \r\nL 140.613766 212.431048 \r\nL 141.070083 211.822558 \r\nL 141.5264 210.73432 \r\nL 141.982718 210.242488 \r\nL 142.439035 211.1836 \r\nL 143.35167 210.607661 \r\nL 143.807987 211.796594 \r\nL 144.264304 210.734203 \r\nL 144.720622 211.401427 \r\nL 145.176939 208.715055 \r\nL 146.089573 212.196993 \r\nL 146.545891 210.605068 \r\nL 147.002208 210.20466 \r\nL 147.458525 208.810287 \r\nL 147.914843 211.110922 \r\nL 148.37116 210.662236 \r\nL 148.827477 211.203312 \r\nL 149.283794 205.490572 \r\nL 149.740112 211.845548 \r\nL 150.196429 210.332995 \r\nL 150.652746 210.738397 \r\nL 151.109064 206.660913 \r\nL 151.565381 209.812627 \r\nL 152.021698 210.382525 \r\nL 152.478016 211.399415 \r\nL 152.934333 209.925742 \r\nL 153.39065 211.150534 \r\nL 153.846967 211.309346 \r\nL 154.303285 209.949534 \r\nL 154.759602 210.12811 \r\nL 155.215919 211.590136 \r\nL 155.672237 211.733725 \r\nL 156.128554 210.437319 \r\nL 156.584871 211.445966 \r\nL 157.041188 209.773114 \r\nL 157.497506 211.474638 \r\nL 157.953823 209.312394 \r\nL 158.41014 212.501644 \r\nL 158.866458 212.758348 \r\nL 159.322775 205.527631 \r\nL 159.779092 206.863778 \r\nL 160.23541 211.434438 \r\nL 160.691727 211.143928 \r\nL 161.148044 212.754817 \r\nL 161.604361 211.925519 \r\nL 162.060679 211.901723 \r\nL 162.516996 212.662909 \r\nL 162.973313 207.160921 \r\nL 163.429631 211.057901 \r\nL 163.885948 205.147378 \r\nL 164.798583 211.12439 \r\nL 165.2549 211.197221 \r\nL 165.711217 210.811537 \r\nL 166.167534 212.889629 \r\nL 166.623852 210.902227 \r\nL 167.080169 210.566184 \r\nL 167.536486 212.250164 \r\nL 167.992804 212.262488 \r\nL 168.449121 211.047304 \r\nL 169.361755 212.839316 \r\nL 169.818073 209.971653 \r\nL 170.27439 211.721745 \r\nL 170.730707 211.621858 \r\nL 171.187025 213.380094 \r\nL 171.643342 212.340683 \r\nL 172.099659 211.629624 \r\nL 172.555977 211.556147 \r\nL 173.012294 211.352729 \r\nL 173.468611 211.700266 \r\nL 173.924928 213.112478 \r\nL 174.381246 212.054922 \r\nL 174.837563 211.660685 \r\nL 175.29388 212.783686 \r\nL 175.750198 209.591162 \r\nL 176.206515 212.25589 \r\nL 176.662832 212.848464 \r\nL 177.11915 211.209238 \r\nL 177.575467 211.479577 \r\nL 178.031784 210.137818 \r\nL 178.488101 212.88631 \r\nL 178.944419 212.684773 \r\nL 179.400736 211.809274 \r\nL 179.857053 212.024215 \r\nL 180.313371 210.689048 \r\nL 180.769688 213.596723 \r\nL 181.226005 211.43788 \r\nL 181.682322 212.554846 \r\nL 182.13864 209.917618 \r\nL 182.594957 210.965056 \r\nL 183.051274 212.622931 \r\nL 183.507592 211.454921 \r\nL 183.963909 211.457565 \r\nL 184.420226 210.576039 \r\nL 184.876544 210.924657 \r\nL 185.332861 211.856019 \r\nL 185.789178 210.85388 \r\nL 186.245495 210.702903 \r\nL 186.701813 212.301955 \r\nL 187.15813 211.204183 \r\nL 188.070765 211.277534 \r\nL 188.527082 212.808249 \r\nL 188.983399 210.678738 \r\nL 189.439717 211.830363 \r\nL 189.896034 213.438677 \r\nL 190.352351 211.316898 \r\nL 190.808668 212.283063 \r\nL 191.264986 210.844855 \r\nL 191.721303 212.652323 \r\nL 192.17762 212.222737 \r\nL 192.633938 211.949237 \r\nL 193.090255 211.460358 \r\nL 193.546572 210.637566 \r\nL 194.002889 211.802478 \r\nL 194.459207 211.242076 \r\nL 194.915524 211.786698 \r\nL 195.371841 211.677874 \r\nL 195.828159 212.354306 \r\nL 196.284476 211.854315 \r\nL 196.740793 212.790132 \r\nL 197.197111 210.76259 \r\nL 197.653428 209.478746 \r\nL 198.109745 211.862848 \r\nL 198.566062 211.637247 \r\nL 199.02238 209.781727 \r\nL 199.478697 210.813856 \r\nL 199.935014 212.632753 \r\nL 200.391332 211.567296 \r\nL 201.303966 212.044862 \r\nL 201.760283 212.07772 \r\nL 202.216601 211.754908 \r\nL 202.672918 211.177424 \r\nL 203.129235 211.831394 \r\nL 203.585553 212.775107 \r\nL 204.04187 212.185111 \r\nL 204.498187 210.084013 \r\nL 204.954505 213.006285 \r\nL 205.410822 211.708642 \r\nL 205.867139 211.800894 \r\nL 206.779774 212.735947 \r\nL 207.236091 211.667559 \r\nL 207.692408 212.731073 \r\nL 208.148726 211.797824 \r\nL 208.605043 211.822638 \r\nL 209.06136 212.972714 \r\nL 209.517678 212.059175 \r\nL 209.973995 211.795403 \r\nL 210.430312 213.268482 \r\nL 210.886629 211.649706 \r\nL 211.342947 211.976478 \r\nL 211.799264 213.983151 \r\nL 212.255581 211.013397 \r\nL 212.711899 210.72497 \r\nL 213.168216 211.824604 \r\nL 213.624533 212.567895 \r\nL 214.08085 212.42032 \r\nL 214.537168 212.57714 \r\nL 214.993485 212.236422 \r\nL 215.449802 211.44025 \r\nL 215.90612 211.738594 \r\nL 216.362437 213.437724 \r\nL 217.275072 212.22488 \r\nL 217.731389 212.921203 \r\nL 218.187706 211.554548 \r\nL 218.644023 212.054179 \r\nL 219.100341 211.622513 \r\nL 220.012975 213.191235 \r\nL 220.469293 212.262952 \r\nL 220.92561 211.687662 \r\nL 221.381927 211.314366 \r\nL 221.838245 212.391932 \r\nL 222.294562 212.390767 \r\nL 222.750879 212.667383 \r\nL 223.207196 211.533032 \r\nL 223.663514 212.496483 \r\nL 224.119831 211.729606 \r\nL 224.576148 212.649084 \r\nL 225.032466 211.611444 \r\nL 225.488783 212.284237 \r\nL 225.9451 212.256976 \r\nL 226.401417 211.43874 \r\nL 226.857735 212.02427 \r\nL 227.314052 211.742517 \r\nL 227.770369 213.083817 \r\nL 228.226687 213.008075 \r\nL 228.683004 211.829274 \r\nL 229.139321 208.644408 \r\nL 229.595639 212.21053 \r\nL 230.051956 212.642523 \r\nL 230.508273 213.800609 \r\nL 230.96459 212.390911 \r\nL 231.420908 213.176169 \r\nL 231.877225 213.674462 \r\nL 232.333542 212.433712 \r\nL 232.78986 212.018769 \r\nL 233.702494 211.93207 \r\nL 234.158812 212.458084 \r\nL 235.071446 211.854372 \r\nL 235.527763 213.625523 \r\nL 235.984081 211.617325 \r\nL 236.440398 212.75063 \r\nL 236.896715 212.256858 \r\nL 237.80935 212.991507 \r\nL 238.265667 211.3022 \r\nL 238.721984 212.664207 \r\nL 239.178302 210.846771 \r\nL 239.634619 212.085909 \r\nL 240.090936 211.303533 \r\nL 240.547254 213.427887 \r\nL 241.003571 213.953651 \r\nL 241.459888 211.852919 \r\nL 241.916206 212.525053 \r\nL 242.372523 212.589654 \r\nL 243.285157 210.977782 \r\nL 243.741475 211.60141 \r\nL 244.197792 213.018236 \r\nL 244.654109 212.194359 \r\nL 245.110427 212.352624 \r\nL 245.566744 213.596413 \r\nL 246.023061 213.09664 \r\nL 246.479378 211.95959 \r\nL 246.935696 212.38181 \r\nL 247.392013 212.441382 \r\nL 247.84833 213.481482 \r\nL 248.304648 212.828007 \r\nL 248.760965 213.236341 \r\nL 249.217282 211.137528 \r\nL 249.6736 211.820978 \r\nL 250.129917 213.020495 \r\nL 250.586234 212.78679 \r\nL 251.042551 213.814646 \r\nL 251.498869 213.893645 \r\nL 251.955186 213.065671 \r\nL 252.411503 213.238507 \r\nL 252.867821 212.959599 \r\nL 253.324138 211.46838 \r\nL 253.780455 213.366947 \r\nL 254.236773 212.076113 \r\nL 254.69309 213.831319 \r\nL 255.149407 212.576087 \r\nL 255.605724 213.31629 \r\nL 256.062042 212.088564 \r\nL 256.518359 212.776343 \r\nL 256.974676 213.001719 \r\nL 257.430994 213.01825 \r\nL 257.887311 214.105626 \r\nL 258.343628 212.248349 \r\nL 258.799945 212.4683 \r\nL 259.256263 213.382488 \r\nL 259.71258 213.574472 \r\nL 260.168897 211.747191 \r\nL 260.625215 212.932728 \r\nL 261.081532 212.950832 \r\nL 261.537849 212.590844 \r\nL 261.994167 212.453225 \r\nL 262.450484 211.947653 \r\nL 262.906801 212.94775 \r\nL 263.363118 211.42115 \r\nL 263.819436 212.604629 \r\nL 264.275753 213.094861 \r\nL 264.73207 213.949764 \r\nL 265.188388 212.895926 \r\nL 265.644705 213.294786 \r\nL 266.101022 214.398979 \r\nL 266.55734 212.818022 \r\nL 267.013657 213.229618 \r\nL 267.469974 213.03827 \r\nL 267.926291 212.540953 \r\nL 268.382609 213.200556 \r\nL 268.838926 213.121197 \r\nL 269.295243 210.61862 \r\nL 269.751561 212.70595 \r\nL 270.207878 211.462616 \r\nL 270.664195 212.687454 \r\nL 271.120512 211.925942 \r\nL 271.57683 213.421925 \r\nL 272.033147 212.784101 \r\nL 272.945782 214.227346 \r\nL 273.402099 212.850543 \r\nL 273.858416 211.868314 \r\nL 274.314734 212.391727 \r\nL 274.771051 213.632947 \r\nL 275.227368 212.48977 \r\nL 275.683685 213.327095 \r\nL 276.140003 213.225388 \r\nL 276.59632 213.32893 \r\nL 277.052637 213.256259 \r\nL 277.508955 213.330593 \r\nL 278.421589 212.966348 \r\nL 278.877907 212.020619 \r\nL 279.334224 212.62368 \r\nL 279.790541 213.613133 \r\nL 280.246858 212.739225 \r\nL 280.703176 213.11358 \r\nL 281.159493 212.888561 \r\nL 281.61581 212.402692 \r\nL 282.072128 212.409261 \r\nL 282.528445 211.958962 \r\nL 282.984762 212.053193 \r\nL 283.441079 213.735042 \r\nL 283.897397 212.82977 \r\nL 284.353714 213.513291 \r\nL 284.810031 213.677563 \r\nL 285.266349 213.66204 \r\nL 286.178983 213.21521 \r\nL 287.091618 212.163214 \r\nL 287.547935 212.729553 \r\nL 288.004252 214.408641 \r\nL 288.46057 213.101586 \r\nL 288.916887 213.014937 \r\nL 289.373204 213.493185 \r\nL 289.829522 213.088802 \r\nL 290.285839 214.345608 \r\nL 290.742156 213.916337 \r\nL 291.198473 213.689402 \r\nL 291.654791 213.904836 \r\nL 292.567425 213.376277 \r\nL 293.023743 213.978686 \r\nL 293.936377 212.389378 \r\nL 294.392695 213.368568 \r\nL 294.849012 213.697284 \r\nL 295.305329 212.396626 \r\nL 295.761646 213.391008 \r\nL 296.217964 213.686824 \r\nL 296.674281 213.563249 \r\nL 297.130598 212.976387 \r\nL 297.586916 213.74924 \r\nL 298.043233 212.979479 \r\nL 298.49955 214.558083 \r\nL 298.955868 212.969974 \r\nL 299.412185 212.696925 \r\nL 299.868502 212.918903 \r\nL 300.324819 213.660361 \r\nL 301.237454 212.559482 \r\nL 302.150089 213.800353 \r\nL 302.606406 212.421908 \r\nL 303.51904 214.366725 \r\nL 303.975358 214.131848 \r\nL 304.431675 213.747155 \r\nL 304.887992 213.798148 \r\nL 305.34431 213.703675 \r\nL 305.800627 212.992676 \r\nL 306.256944 213.583011 \r\nL 306.713262 213.165958 \r\nL 307.169579 213.621433 \r\nL 307.625896 213.348789 \r\nL 308.082213 212.857876 \r\nL 308.538531 213.407823 \r\nL 308.994848 214.209232 \r\nL 309.451165 213.586286 \r\nL 309.907483 211.167849 \r\nL 310.3638 212.826085 \r\nL 311.276435 213.736448 \r\nL 311.732752 212.601222 \r\nL 312.189069 213.602153 \r\nL 312.645386 212.601992 \r\nL 313.101704 214.405739 \r\nL 313.558021 214.02718 \r\nL 314.014338 213.038105 \r\nL 314.470656 212.682377 \r\nL 314.926973 212.551889 \r\nL 315.38329 214.287705 \r\nL 315.839607 213.275831 \r\nL 316.295925 213.547119 \r\nL 316.752242 213.540966 \r\nL 317.208559 213.317579 \r\nL 317.664877 214.303367 \r\nL 318.121194 212.655403 \r\nL 318.577511 214.233501 \r\nL 319.033829 213.795661 \r\nL 319.490146 213.55075 \r\nL 319.946463 213.022094 \r\nL 320.40278 214.115705 \r\nL 320.859098 213.737924 \r\nL 321.315415 212.867126 \r\nL 321.315415 212.867126 \r\n\" style=\"fill:none;stroke:#1f77b4;stroke-linecap:square;stroke-width:1.5;\"/>\r\n   </g>\r\n   <g id=\"line2d_15\">\r\n    <path clip-path=\"url(#p493a5e300d)\" d=\"M 43.418182 202.570862 \r\nL 43.874499 203.846905 \r\nL 44.330816 210.227823 \r\nL 44.787134 201.472247 \r\nL 45.243451 187.940407 \r\nL 45.699768 205.828443 \r\nL 46.156086 209.35002 \r\nL 46.612403 210.044029 \r\nL 47.06872 211.462249 \r\nL 47.525037 209.582534 \r\nL 47.981355 201.730616 \r\nL 48.437672 196.731359 \r\nL 48.893989 198.984388 \r\nL 49.350307 207.002091 \r\nL 49.806624 204.814541 \r\nL 50.262941 209.688974 \r\nL 50.719259 209.474101 \r\nL 51.175576 209.857702 \r\nL 51.631893 207.860772 \r\nL 52.08821 209.883401 \r\nL 53.000845 207.556004 \r\nL 53.457162 205.567201 \r\nL 53.91348 208.155693 \r\nL 54.369797 209.050723 \r\nL 54.826114 208.700343 \r\nL 55.282432 210.114343 \r\nL 55.738749 209.592627 \r\nL 56.195066 210.037986 \r\nL 56.651383 208.023346 \r\nL 57.107701 210.629663 \r\nL 57.564018 208.243794 \r\nL 58.476653 210.776324 \r\nL 58.93297 210.546744 \r\nL 59.389287 210.456647 \r\nL 59.845604 209.729611 \r\nL 60.301922 206.431841 \r\nL 60.758239 210.741472 \r\nL 61.214556 207.754021 \r\nL 61.670874 207.901181 \r\nL 62.127191 211.079033 \r\nL 62.583508 207.272563 \r\nL 63.039826 208.017948 \r\nL 63.496143 211.485491 \r\nL 63.95246 212.970648 \r\nL 64.408777 209.260081 \r\nL 64.865095 209.955555 \r\nL 65.321412 209.419244 \r\nL 65.777729 209.747885 \r\nL 66.234047 208.970549 \r\nL 66.690364 208.600012 \r\nL 67.146681 211.84953 \r\nL 67.602999 205.728132 \r\nL 68.059316 208.355825 \r\nL 68.515633 212.030332 \r\nL 68.97195 209.034662 \r\nL 69.428268 204.450344 \r\nL 69.884585 209.848407 \r\nL 70.340902 210.740097 \r\nL 70.79722 209.674064 \r\nL 71.253537 211.862744 \r\nL 71.709854 209.751276 \r\nL 72.166171 208.859846 \r\nL 72.622489 211.301541 \r\nL 73.078806 209.610051 \r\nL 73.535123 208.896052 \r\nL 73.991441 211.665098 \r\nL 74.447758 209.792111 \r\nL 74.904075 209.96633 \r\nL 75.360393 208.869184 \r\nL 75.81671 211.853623 \r\nL 76.729344 208.953412 \r\nL 77.185662 209.772639 \r\nL 77.641979 212.712583 \r\nL 78.098296 211.95412 \r\nL 78.554614 209.924218 \r\nL 79.010931 209.74111 \r\nL 79.467248 212.584472 \r\nL 79.923565 210.690829 \r\nL 80.379883 209.904662 \r\nL 80.8362 207.783138 \r\nL 81.292517 210.930395 \r\nL 81.748835 212.03473 \r\nL 82.205152 211.110603 \r\nL 82.661469 210.815347 \r\nL 83.117787 211.276927 \r\nL 83.574104 208.948521 \r\nL 84.486738 210.923998 \r\nL 84.943056 209.629754 \r\nL 85.399373 211.304625 \r\nL 85.85569 210.38744 \r\nL 86.312008 211.182616 \r\nL 86.768325 212.38902 \r\nL 87.224642 209.912449 \r\nL 87.68096 209.479233 \r\nL 88.137277 210.741696 \r\nL 88.593594 209.765669 \r\nL 89.049911 206.50837 \r\nL 89.506229 212.47697 \r\nL 89.962546 211.689499 \r\nL 90.418863 211.947015 \r\nL 90.875181 209.956331 \r\nL 91.331498 210.461467 \r\nL 91.787815 211.971196 \r\nL 92.244132 208.975591 \r\nL 92.70045 212.502032 \r\nL 93.156767 213.455442 \r\nL 93.613084 210.449968 \r\nL 94.069402 210.397284 \r\nL 94.525719 210.802142 \r\nL 94.982036 209.632598 \r\nL 95.438354 210.774862 \r\nL 95.894671 209.522649 \r\nL 96.350988 211.645038 \r\nL 97.263623 211.888566 \r\nL 97.71994 211.627005 \r\nL 98.176257 209.320441 \r\nL 98.632575 209.608819 \r\nL 99.088892 212.459758 \r\nL 99.545209 210.747051 \r\nL 100.001527 213.257041 \r\nL 100.457844 204.995506 \r\nL 100.914161 210.508975 \r\nL 101.370478 212.275628 \r\nL 101.826796 210.663447 \r\nL 102.283113 210.112798 \r\nL 102.73943 211.94849 \r\nL 103.195748 214.756364 \r\nL 104.108382 208.748853 \r\nL 104.564699 212.8675 \r\nL 105.021017 211.573048 \r\nL 105.477334 211.738004 \r\nL 105.933651 211.506338 \r\nL 106.389969 210.813817 \r\nL 107.302603 212.348733 \r\nL 107.758921 211.480303 \r\nL 108.215238 17.083636 \r\nL 108.671555 204.209399 \r\nL 109.127872 206.454133 \r\nL 109.58419 210.557797 \r\nL 110.040507 209.567724 \r\nL 110.496824 208.914282 \r\nL 110.953142 210.321365 \r\nL 111.409459 207.88428 \r\nL 112.322093 210.020923 \r\nL 112.778411 210.625946 \r\nL 113.691045 207.862418 \r\nL 114.147363 207.422993 \r\nL 114.60368 205.810064 \r\nL 115.059997 210.614204 \r\nL 115.516315 209.939042 \r\nL 115.972632 205.314376 \r\nL 116.428949 209.262686 \r\nL 116.885266 208.259873 \r\nL 117.341584 208.876625 \r\nL 117.797901 201.295526 \r\nL 118.254218 208.19251 \r\nL 118.710536 204.439737 \r\nL 119.166853 210.211071 \r\nL 119.62317 208.422157 \r\nL 120.079488 210.316506 \r\nL 120.992122 207.249237 \r\nL 121.448439 208.532156 \r\nL 121.904757 208.419042 \r\nL 122.361074 210.358884 \r\nL 122.817391 209.78607 \r\nL 123.273709 208.636281 \r\nL 123.730026 208.682257 \r\nL 124.186343 209.436774 \r\nL 124.64266 209.476225 \r\nL 125.098978 209.099236 \r\nL 125.555295 209.858443 \r\nL 126.011612 205.18605 \r\nL 126.46793 206.80475 \r\nL 126.924247 210.937584 \r\nL 127.380564 199.680873 \r\nL 127.836882 208.806628 \r\nL 128.293199 209.840588 \r\nL 128.749516 207.805334 \r\nL 129.205833 209.801844 \r\nL 129.662151 210.19632 \r\nL 130.118468 209.631299 \r\nL 130.574785 209.311791 \r\nL 131.031103 208.1015 \r\nL 131.48742 211.119074 \r\nL 131.943737 209.422053 \r\nL 132.400055 209.190035 \r\nL 132.856372 208.141394 \r\nL 133.312689 210.293688 \r\nL 133.769006 209.403531 \r\nL 134.225324 208.260444 \r\nL 135.137958 209.997554 \r\nL 135.594276 209.469914 \r\nL 136.050593 210.504162 \r\nL 136.963227 209.86536 \r\nL 137.419545 208.647367 \r\nL 137.875862 210.649886 \r\nL 138.332179 210.783439 \r\nL 138.788497 209.626191 \r\nL 139.244814 210.247946 \r\nL 139.701131 206.365096 \r\nL 140.157449 209.14637 \r\nL 140.613766 209.916237 \r\nL 141.070083 211.215496 \r\nL 141.982718 210.345828 \r\nL 142.439035 212.125019 \r\nL 142.895352 212.205422 \r\nL 143.35167 210.087645 \r\nL 143.807987 210.16264 \r\nL 144.264304 212.239672 \r\nL 144.720622 212.005148 \r\nL 145.176939 210.002986 \r\nL 145.633256 210.767235 \r\nL 146.089573 209.960504 \r\nL 146.545891 211.794961 \r\nL 147.002208 210.137202 \r\nL 147.458525 210.526554 \r\nL 147.914843 211.548178 \r\nL 148.827477 211.082217 \r\nL 149.283794 211.394626 \r\nL 149.740112 210.649198 \r\nL 150.196429 204.963445 \r\nL 150.652746 212.199989 \r\nL 151.109064 211.745304 \r\nL 151.565381 211.67976 \r\nL 152.021698 209.240584 \r\nL 152.478016 212.958162 \r\nL 152.934333 210.620799 \r\nL 153.39065 212.396162 \r\nL 153.846967 211.913259 \r\nL 154.303285 211.931691 \r\nL 154.759602 211.041685 \r\nL 155.215919 212.020974 \r\nL 155.672237 212.696472 \r\nL 156.128554 211.621443 \r\nL 156.584871 212.282355 \r\nL 157.041188 213.143 \r\nL 157.497506 208.995311 \r\nL 157.953823 211.324928 \r\nL 158.41014 212.661716 \r\nL 158.866458 211.422661 \r\nL 159.322775 213.296169 \r\nL 159.779092 210.249796 \r\nL 160.23541 211.444914 \r\nL 160.691727 211.232034 \r\nL 161.148044 211.794233 \r\nL 161.604361 204.082118 \r\nL 162.060679 210.926621 \r\nL 162.973313 212.651802 \r\nL 163.429631 212.547765 \r\nL 163.885948 210.714179 \r\nL 164.342265 212.170348 \r\nL 164.798583 211.723739 \r\nL 165.2549 197.63039 \r\nL 165.711217 212.392668 \r\nL 166.167534 211.29577 \r\nL 166.623852 212.340554 \r\nL 167.080169 212.397017 \r\nL 167.536486 211.423303 \r\nL 167.992804 212.930288 \r\nL 168.449121 211.730156 \r\nL 168.905438 212.209202 \r\nL 169.361755 213.420366 \r\nL 169.818073 212.151367 \r\nL 170.27439 211.364588 \r\nL 170.730707 212.475536 \r\nL 171.187025 212.607055 \r\nL 171.643342 209.890419 \r\nL 172.099659 211.660992 \r\nL 172.555977 210.085126 \r\nL 173.012294 211.807567 \r\nL 173.468611 210.469053 \r\nL 173.924928 203.955088 \r\nL 174.381246 213.497392 \r\nL 174.837563 212.580574 \r\nL 175.29388 210.879068 \r\nL 175.750198 212.455934 \r\nL 176.206515 212.332963 \r\nL 176.662832 212.350913 \r\nL 177.11915 211.927178 \r\nL 177.575467 207.821229 \r\nL 178.031784 212.3144 \r\nL 178.488101 212.345827 \r\nL 179.400736 210.926625 \r\nL 179.857053 211.982865 \r\nL 180.313371 209.665188 \r\nL 180.769688 211.131164 \r\nL 181.226005 212.118139 \r\nL 181.682322 212.449087 \r\nL 182.13864 212.049794 \r\nL 183.051274 210.893769 \r\nL 183.507592 209.657956 \r\nL 183.963909 209.606377 \r\nL 184.420226 211.666084 \r\nL 184.876544 213.186696 \r\nL 185.332861 211.348927 \r\nL 185.789178 213.190171 \r\nL 186.245495 213.158944 \r\nL 187.15813 212.054531 \r\nL 187.614447 211.714661 \r\nL 188.527082 212.242612 \r\nL 188.983399 209.046693 \r\nL 189.439717 212.367585 \r\nL 189.896034 211.315936 \r\nL 190.352351 212.772758 \r\nL 190.808668 211.563106 \r\nL 191.264986 212.730024 \r\nL 191.721303 212.827527 \r\nL 192.17762 211.173587 \r\nL 192.633938 212.643441 \r\nL 193.090255 210.85063 \r\nL 193.546572 211.3509 \r\nL 194.459207 210.922647 \r\nL 194.915524 212.141919 \r\nL 195.828159 211.131981 \r\nL 196.284476 212.929166 \r\nL 196.740793 212.469701 \r\nL 197.197111 211.31655 \r\nL 197.653428 209.639337 \r\nL 198.109745 213.034272 \r\nL 198.566062 212.377253 \r\nL 199.02238 211.517536 \r\nL 199.478697 211.559472 \r\nL 199.935014 212.202553 \r\nL 200.391332 210.183114 \r\nL 200.847649 209.99826 \r\nL 201.303966 213.822921 \r\nL 201.760283 209.582213 \r\nL 202.216601 198.650515 \r\nL 202.672918 211.404095 \r\nL 203.129235 210.80138 \r\nL 203.585553 210.894977 \r\nL 204.04187 211.167046 \r\nL 204.498187 211.999471 \r\nL 204.954505 213.101416 \r\nL 205.867139 211.322129 \r\nL 206.323456 212.208871 \r\nL 206.779774 212.051556 \r\nL 207.236091 211.273051 \r\nL 207.692408 212.203851 \r\nL 208.148726 211.786939 \r\nL 208.605043 210.932683 \r\nL 209.06136 211.948464 \r\nL 209.517678 210.287578 \r\nL 209.973995 212.138391 \r\nL 210.430312 210.68797 \r\nL 210.886629 211.865024 \r\nL 211.342947 210.229219 \r\nL 211.799264 210.466708 \r\nL 212.255581 212.430467 \r\nL 212.711899 211.288898 \r\nL 213.168216 211.786041 \r\nL 213.624533 209.246048 \r\nL 214.08085 211.479261 \r\nL 214.537168 209.995932 \r\nL 214.993485 211.455985 \r\nL 215.90612 213.191225 \r\nL 216.362437 213.122233 \r\nL 216.818754 212.797463 \r\nL 217.275072 210.129725 \r\nL 217.731389 211.242147 \r\nL 218.187706 211.657284 \r\nL 219.100341 212.249472 \r\nL 219.556658 214.49656 \r\nL 220.012975 211.072169 \r\nL 220.469293 210.260614 \r\nL 220.92561 212.971184 \r\nL 221.381927 211.438916 \r\nL 221.838245 211.972352 \r\nL 222.294562 212.211821 \r\nL 222.750879 213.362975 \r\nL 223.207196 212.197764 \r\nL 223.663514 211.600866 \r\nL 224.119831 213.08046 \r\nL 224.576148 212.168954 \r\nL 225.032466 210.901603 \r\nL 225.488783 212.140451 \r\nL 225.9451 212.956478 \r\nL 226.401417 212.041808 \r\nL 226.857735 212.302412 \r\nL 227.314052 212.090567 \r\nL 227.770369 213.278882 \r\nL 228.226687 213.237086 \r\nL 229.139321 211.894476 \r\nL 229.595639 212.722075 \r\nL 230.051956 214.18459 \r\nL 230.508273 212.585404 \r\nL 230.96459 212.336907 \r\nL 231.420908 212.947389 \r\nL 231.877225 212.819083 \r\nL 232.333542 213.342081 \r\nL 233.702494 212.463057 \r\nL 234.158812 212.660934 \r\nL 234.615129 212.364804 \r\nL 235.071446 212.71758 \r\nL 235.527763 212.682436 \r\nL 236.440398 213.010872 \r\nL 237.353033 212.450113 \r\nL 238.265667 213.663822 \r\nL 238.721984 210.160624 \r\nL 239.178302 213.162089 \r\nL 239.634619 213.806973 \r\nL 240.090936 212.730098 \r\nL 240.547254 211.986785 \r\nL 241.003571 212.24082 \r\nL 241.459888 213.026115 \r\nL 241.916206 212.561638 \r\nL 242.82884 213.26573 \r\nL 243.285157 212.864077 \r\nL 243.741475 211.830874 \r\nL 244.197792 213.960948 \r\nL 244.654109 212.358169 \r\nL 245.110427 213.512719 \r\nL 246.023061 212.898551 \r\nL 246.479378 212.181334 \r\nL 246.935696 212.062607 \r\nL 247.392013 212.880581 \r\nL 247.84833 212.682024 \r\nL 248.304648 207.157288 \r\nL 248.760965 213.364874 \r\nL 249.217282 213.065446 \r\nL 249.6736 213.275227 \r\nL 250.129917 209.374277 \r\nL 250.586234 212.316356 \r\nL 251.042551 212.997917 \r\nL 251.498869 212.887249 \r\nL 251.955186 211.84039 \r\nL 252.411503 213.129614 \r\nL 252.867821 213.352637 \r\nL 253.324138 213.097978 \r\nL 253.780455 213.166278 \r\nL 254.236773 212.628079 \r\nL 254.69309 213.3376 \r\nL 255.149407 213.816579 \r\nL 255.605724 212.171171 \r\nL 256.062042 212.564311 \r\nL 256.518359 213.830014 \r\nL 256.974676 212.202514 \r\nL 257.430994 213.168401 \r\nL 257.887311 210.113576 \r\nL 258.343628 212.790377 \r\nL 258.799945 213.337219 \r\nL 259.256263 211.963481 \r\nL 259.71258 212.27636 \r\nL 260.168897 210.88032 \r\nL 260.625215 211.385368 \r\nL 261.537849 213.961157 \r\nL 261.994167 213.604453 \r\nL 262.450484 212.319991 \r\nL 262.906801 214.534148 \r\nL 263.363118 214.100769 \r\nL 263.819436 212.446165 \r\nL 264.275753 212.042703 \r\nL 264.73207 213.236727 \r\nL 265.188388 211.640829 \r\nL 265.644705 213.779293 \r\nL 266.101022 212.534215 \r\nL 266.55734 212.834364 \r\nL 267.013657 213.684436 \r\nL 267.926291 212.912465 \r\nL 268.382609 213.483532 \r\nL 268.838926 210.872318 \r\nL 269.295243 213.025302 \r\nL 269.751561 213.33043 \r\nL 270.207878 212.911411 \r\nL 270.664195 211.032562 \r\nL 271.120512 212.948434 \r\nL 271.57683 212.723696 \r\nL 272.033147 209.938134 \r\nL 272.489464 213.371662 \r\nL 273.858416 212.919482 \r\nL 274.314734 213.214163 \r\nL 274.771051 214.281596 \r\nL 275.227368 213.008899 \r\nL 275.683685 211.397299 \r\nL 276.140003 213.069846 \r\nL 276.59632 212.758175 \r\nL 277.052637 213.377597 \r\nL 277.508955 213.335391 \r\nL 277.965272 213.926861 \r\nL 278.421589 212.624161 \r\nL 278.877907 210.953823 \r\nL 279.334224 213.806793 \r\nL 279.790541 211.784434 \r\nL 280.246858 211.970187 \r\nL 281.159493 213.412241 \r\nL 281.61581 212.912437 \r\nL 282.072128 213.135858 \r\nL 282.528445 212.218665 \r\nL 282.984762 212.620611 \r\nL 283.441079 212.193414 \r\nL 283.897397 212.737839 \r\nL 284.353714 206.577422 \r\nL 284.810031 210.910757 \r\nL 285.266349 211.132691 \r\nL 285.722666 212.368068 \r\nL 286.178983 213.238721 \r\nL 286.635301 213.823026 \r\nL 287.091618 212.378525 \r\nL 288.004252 214.370209 \r\nL 288.46057 213.192954 \r\nL 288.916887 213.47201 \r\nL 289.373204 211.879332 \r\nL 289.829522 212.774487 \r\nL 290.285839 206.829717 \r\nL 290.742156 211.142424 \r\nL 291.654791 213.343215 \r\nL 292.567425 212.375767 \r\nL 293.48006 209.776804 \r\nL 293.936377 212.208388 \r\nL 294.392695 212.929056 \r\nL 294.849012 212.945853 \r\nL 295.305329 212.476252 \r\nL 295.761646 211.484924 \r\nL 296.217964 212.707257 \r\nL 296.674281 211.845386 \r\nL 297.130598 213.158331 \r\nL 297.586916 212.813931 \r\nL 298.043233 212.692277 \r\nL 298.49955 211.319413 \r\nL 298.955868 212.506009 \r\nL 299.412185 210.164551 \r\nL 299.868502 211.493679 \r\nL 300.324819 210.764184 \r\nL 300.781137 211.532125 \r\nL 301.237454 210.953319 \r\nL 301.693771 211.7882 \r\nL 302.606406 212.026699 \r\nL 303.062723 212.967062 \r\nL 303.51904 212.348805 \r\nL 303.975358 210.414609 \r\nL 304.431675 212.171946 \r\nL 304.887992 213.007544 \r\nL 305.34431 212.59566 \r\nL 305.800627 206.349946 \r\nL 306.256944 209.671033 \r\nL 306.713262 211.750932 \r\nL 307.169579 212.458802 \r\nL 307.625896 213.727667 \r\nL 308.082213 212.269885 \r\nL 308.538531 212.732062 \r\nL 308.994848 209.692692 \r\nL 309.451165 211.469713 \r\nL 309.907483 212.419352 \r\nL 310.3638 213.809978 \r\nL 310.820117 212.86723 \r\nL 311.276435 213.092635 \r\nL 311.732752 212.346521 \r\nL 312.189069 213.042347 \r\nL 312.645386 213.042394 \r\nL 313.101704 209.70492 \r\nL 313.558021 212.776374 \r\nL 314.014338 212.288324 \r\nL 314.470656 208.140365 \r\nL 314.926973 212.524884 \r\nL 315.38329 212.836404 \r\nL 315.839607 212.687218 \r\nL 316.295925 213.364076 \r\nL 317.208559 212.031208 \r\nL 317.664877 212.355515 \r\nL 318.121194 212.845866 \r\nL 318.577511 214.231724 \r\nL 319.033829 212.785147 \r\nL 319.490146 213.195725 \r\nL 319.946463 213.123227 \r\nL 320.40278 208.987013 \r\nL 320.859098 213.765725 \r\nL 321.315415 213.135888 \r\nL 321.771732 212.934375 \r\nL 322.22805 212.357206 \r\nL 322.684367 214.282602 \r\nL 323.140684 212.542708 \r\nL 323.597001 213.338492 \r\nL 324.053319 212.605865 \r\nL 324.965953 212.988818 \r\nL 325.422271 212.616279 \r\nL 325.878588 213.082993 \r\nL 326.334905 212.145574 \r\nL 326.791223 212.72385 \r\nL 327.24754 213.597707 \r\nL 327.703857 211.92813 \r\nL 328.160174 213.908464 \r\nL 328.616492 213.569915 \r\nL 329.072809 212.777539 \r\nL 329.529126 213.857853 \r\nL 329.985444 213.231988 \r\nL 330.441761 213.050363 \r\nL 330.898078 212.711294 \r\nL 331.354396 212.205913 \r\nL 331.810713 212.833471 \r\nL 332.26703 213.690686 \r\nL 332.723347 211.990651 \r\nL 333.179665 213.785995 \r\nL 333.635982 211.092371 \r\nL 334.092299 211.826647 \r\nL 334.548617 212.777944 \r\nL 335.004934 212.810923 \r\nL 335.461251 213.557576 \r\nL 335.917568 212.755245 \r\nL 336.373886 213.636483 \r\nL 336.830203 213.74524 \r\nL 337.28652 212.4011 \r\nL 337.742838 212.284548 \r\nL 338.199155 205.282683 \r\nL 338.655472 209.71216 \r\nL 339.11179 211.752172 \r\nL 339.568107 212.658179 \r\nL 340.024424 212.12161 \r\nL 340.480741 212.591295 \r\nL 341.393376 214.110593 \r\nL 341.849693 214.233612 \r\nL 342.306011 212.85558 \r\nL 342.762328 210.919426 \r\nL 343.218645 213.380641 \r\nL 343.674963 212.740616 \r\nL 344.13128 211.859308 \r\nL 344.587597 213.73112 \r\nL 345.043914 213.210107 \r\nL 345.500232 213.899407 \r\nL 346.412866 212.960884 \r\nL 346.869184 213.548652 \r\nL 347.325501 213.80311 \r\nL 347.781818 212.792572 \r\nL 347.781818 212.792572 \r\n\" style=\"fill:none;stroke:#ff7f0e;stroke-linecap:square;stroke-width:1.5;\"/>\r\n   </g>\r\n   <g id=\"patch_3\">\r\n    <path d=\"M 28.2 224.64 \r\nL 28.2 7.2 \r\n\" style=\"fill:none;stroke:#000000;stroke-linecap:square;stroke-linejoin:miter;stroke-width:0.8;\"/>\r\n   </g>\r\n   <g id=\"patch_4\">\r\n    <path d=\"M 363 224.64 \r\nL 363 7.2 \r\n\" style=\"fill:none;stroke:#000000;stroke-linecap:square;stroke-linejoin:miter;stroke-width:0.8;\"/>\r\n   </g>\r\n   <g id=\"patch_5\">\r\n    <path d=\"M 28.2 224.64 \r\nL 363 224.64 \r\n\" style=\"fill:none;stroke:#000000;stroke-linecap:square;stroke-linejoin:miter;stroke-width:0.8;\"/>\r\n   </g>\r\n   <g id=\"patch_6\">\r\n    <path d=\"M 28.2 7.2 \r\nL 363 7.2 \r\n\" style=\"fill:none;stroke:#000000;stroke-linecap:square;stroke-linejoin:miter;stroke-width:0.8;\"/>\r\n   </g>\r\n  </g>\r\n </g>\r\n <defs>\r\n  <clipPath id=\"p493a5e300d\">\r\n   <rect height=\"217.44\" width=\"334.8\" x=\"28.2\" y=\"7.2\"/>\r\n  </clipPath>\r\n </defs>\r\n</svg>\r\n",
      "image/png": "[encoded data removed]"
     },
     "metadata": {
      "needs_background": "light"
     }
    }
   ],
   "source": [
    "plt.plot(np.arange(0, 610), srgan_loss_df['Value'])\n",
    "plt.plot(np.arange(0, 668), srganres_loss_df['Value'])"
   ]
  },
  {
   "cell_type": "code",
   "execution_count": null,
   "metadata": {},
   "outputs": [],
   "source": [
    "metric_lists = [['unet_same_img_psnrs.txt', 'unet_same_img_ssims.txt'],\n",
    "                ['cgan_psnrs.txt', 'cgan_ssims.txt'], \n",
    "                ['cgan_grad_loss_psnrs.txt', 'cgan_grad_loss_ssims.txt'],\n",
    "                ['cgan_grad_img_psnrs.txt', 'cgan_grad_img_ssims.txt']\n",
    "                ]\n",
    "labels = ['U-Net', 'cGAN', '梯度损失', '图像边缘损失']"
   ]
  },
  {
   "cell_type": "code",
   "execution_count": null,
   "metadata": {},
   "outputs": [],
   "source": [
    "psnrs, ssims = [], []\n",
    "for psnr_file, ssim_file in metric_lists:\n",
    "    psnrs.append(np.loadtxt(os.path.join(file_path, psnr_file)))\n",
    "    ssims.append(np.loadtxt(os.path.join(file_path, ssim_file)))\n",
    "psnrs = np.asarray(psnrs)\n",
    "ssims = np.asarray(ssims)"
   ]
  },
  {
   "cell_type": "code",
   "execution_count": null,
   "metadata": {},
   "outputs": [],
   "source": [
    "psnrs_data = pd.DataFrame(psnrs.T, columns=labels)\n",
    "ssims_data = pd.DataFrame(ssims.T, columns=labels)"
   ]
  },
  {
   "cell_type": "code",
   "execution_count": null,
   "metadata": {},
   "outputs": [],
   "source": [
    "fig = plt.figure(figsize=(12, 4))\n",
    "ax = fig.add_subplot(1, 2, 1)\n",
    "psnrs_data.boxplot(patch_artist = True)\n",
    "plt.title('PSNR')\n",
    "ax = fig.add_subplot(1, 2, 2)\n",
    "ssims_data.boxplot(patch_artist = True)\n",
    "plt.title('SSIM')"
   ]
  },
  {
   "cell_type": "code",
   "execution_count": null,
   "metadata": {},
   "outputs": [],
   "source": [
    "rvs1 = psnrs[0]\n",
    "rvs2 = psnrs[1]\n",
    "rvs3 = psnrs[2]\n",
    "rvs4 = psnrs[3]"
   ]
  },
  {
   "cell_type": "code",
   "execution_count": null,
   "metadata": {},
   "outputs": [],
   "source": [
    "print('{:.2f}, {:.2f}'.format(np.mean(rvs1), np.std(rvs1)))\n",
    "print('{:.2f}, {:.2f}'.format(np.mean(rvs2), np.std(rvs2)))\n",
    "print('{:.2f}, {:.2f}'.format(np.mean(rvs3), np.std(rvs3)))\n",
    "print('{:.2f}, {:.2f}'.format(np.mean(rvs4), np.std(rvs4)))"
   ]
  },
  {
   "cell_type": "code",
   "execution_count": null,
   "metadata": {},
   "outputs": [],
   "source": [
    "for i in range(4):\n",
    "    for j in range(4):\n",
    "        if i < j:\n",
    "            t, p = stats.ttest_ind(psnrs[i],psnrs[j],equal_var = False)\n",
    "            print(i, j, '{:.3f}, {:.3f}'.format(t, p))"
   ]
  },
  {
   "cell_type": "code",
   "execution_count": null,
   "metadata": {},
   "outputs": [],
   "source": [
    "rvs1 = ssims[0]\n",
    "rvs2 = ssims[1]\n",
    "rvs3 = ssims[2]\n",
    "rvs4 = ssims[3]"
   ]
  },
  {
   "cell_type": "code",
   "execution_count": null,
   "metadata": {},
   "outputs": [],
   "source": [
    "print('{:.3f}, {:.3f}'.format(np.mean(rvs1), np.std(rvs1)))\n",
    "print('{:.3f}, {:.3f}'.format(np.mean(rvs2), np.std(rvs2)))\n",
    "print('{:.3f}, {:.3f}'.format(np.mean(rvs3), np.std(rvs3)))\n",
    "print('{:.3f}, {:.3f}'.format(np.mean(rvs4), np.std(rvs4)))"
   ]
  },
  {
   "cell_type": "code",
   "execution_count": null,
   "metadata": {},
   "outputs": [],
   "source": [
    "for i in range(4):\n",
    "    for j in range(4):\n",
    "        if i < j:\n",
    "            t, p = stats.ttest_ind(ssims[i],ssims[j],equal_var = False)\n",
    "            print(i, j, '{:.3f}, {:.3f}'.format(t, p))"
   ]
  },
  {
   "cell_type": "code",
   "execution_count": null,
   "metadata": {},
   "outputs": [],
   "source": [
    "t, p = stats.ttest_ind(rvs1, rvs4, equal_var = False)"
   ]
  },
  {
   "cell_type": "code",
   "execution_count": null,
   "metadata": {},
   "outputs": [],
   "source": [
    "t, p"
   ]
  },
  {
   "cell_type": "code",
   "execution_count": null,
   "metadata": {},
   "outputs": [],
   "source": [
    "stats.levene(rvs1, rvs4)"
   ]
  },
  {
   "cell_type": "code",
   "execution_count": null,
   "metadata": {},
   "outputs": [],
   "source": []
  }
 ]
}